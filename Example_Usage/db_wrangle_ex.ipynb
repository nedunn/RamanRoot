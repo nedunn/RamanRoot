{
 "cells": [
  {
   "cell_type": "code",
   "execution_count": 17,
   "metadata": {},
   "outputs": [],
   "source": [
    "import db_wrangle\n",
    "from importlib import reload"
   ]
  },
  {
   "cell_type": "code",
   "execution_count": 18,
   "metadata": {},
   "outputs": [],
   "source": [
    "# Set initial parameters\n",
    "database='catdb'\n",
    "user='postgres'\n",
    "pw=''"
   ]
  },
  {
   "cell_type": "code",
   "execution_count": 19,
   "metadata": {},
   "outputs": [
    {
     "name": "stdout",
     "output_type": "stream",
     "text": [
      "The following table(s) are in the given database: ['tissue']\n"
     ]
    }
   ],
   "source": [
    "# Connect to a database and check for tables\n",
    "db=db_wrangle.DB_Manager(dbname=database, user=user, password=pw)\n",
    "print(f'The following table(s) are in the given database: {db.table_list()}')\n",
    "db.disconnect()"
   ]
  },
  {
   "cell_type": "code",
   "execution_count": 22,
   "metadata": {},
   "outputs": [
    {
     "name": "stdout",
     "output_type": "stream",
     "text": [
      "Removing 1 row(s) where filename = test\n"
     ]
    },
    {
     "name": "stdout",
     "output_type": "stream",
     "text": [
      "Row(s) removed.\n"
     ]
    }
   ],
   "source": [
    "# Example Table Manager useage\n",
    "handle=db_wrangle.Table_Manager('tissue', dbname=database, user=user, password=pw)\n",
    "cols=handle.col_list()\n",
    "handle.add_row({'filename':'test'})\n",
    "handle.remove_row('filename', 'test')\n",
    "handle.grab_data(['raman_shift', 'intensity'])"
   ]
  }
 ],
 "metadata": {
  "kernelspec": {
   "display_name": "spinne-cP8-tGrS",
   "language": "python",
   "name": "python3"
  },
  "language_info": {
   "codemirror_mode": {
    "name": "ipython",
    "version": 3
   },
   "file_extension": ".py",
   "mimetype": "text/x-python",
   "name": "python",
   "nbconvert_exporter": "python",
   "pygments_lexer": "ipython3",
   "version": "3.8.10"
  }
 },
 "nbformat": 4,
 "nbformat_minor": 2
}
